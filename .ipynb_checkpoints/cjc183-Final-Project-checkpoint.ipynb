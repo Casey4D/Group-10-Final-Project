{
 "cells": [
  {
   "cell_type": "code",
   "execution_count": 70,
   "metadata": {},
   "outputs": [],
   "source": [
    "import pandas as pd\n",
    "import numpy as np\n",
    "%matplotlib inline\n",
    "import matplotlib.pyplot as plt"
   ]
  },
  {
   "cell_type": "code",
   "execution_count": 3,
   "metadata": {},
   "outputs": [],
   "source": [
    "fire = pd.read_csv(\"Fire.csv\")"
   ]
  },
  {
   "cell_type": "code",
   "execution_count": 4,
   "metadata": {},
   "outputs": [],
   "source": [
    "fire[\"neighborhood\"].replace(\"\", np.nan, inplace=True)\n",
    "fire.dropna(subset=[\"neighborhood\"], inplace=True)"
   ]
  },
  {
   "cell_type": "code",
   "execution_count": 5,
   "metadata": {},
   "outputs": [
    {
     "name": "stdout",
     "output_type": "stream",
     "text": [
      "['Allegheny Center', 'Allegheny West', 'Allentown', 'Arlington', 'Arlington Heights', 'Banksville', 'Bedford Dwellings', 'Beechview', 'Beltzhoover', 'Bloomfield', 'Bluff', 'Bon Air', 'Brighton Heights', 'Brookline', 'California-Kirkbride', 'Carrick', 'Central Business District', 'Central Lawrenceville', 'Central Northside', 'Central Oakland', 'Chartiers City', 'Chateau', 'Crafton Heights', 'Crawford-Roberts', 'Duquesne Heights', 'East Allegheny', 'East Carnegie', 'East Hills', 'East Liberty', 'Elliott', 'Esplen', 'Fairywood', 'Fineview', 'Friendship', 'Garfield', 'Glen Hazel', 'Greenfield', 'Hays', 'Hazelwood', 'Highland Park', 'Homewood North', 'Homewood South', 'Homewood West', 'Knoxville', 'Larimer', 'Lincoln Place', 'Lincoln-Lemington-Belmar', 'Lower Lawrenceville', 'Manchester', 'Marshall-Shadeland', 'Middle Hill', 'Morningside', 'Mount Oliver Borough', 'Mount Washington', 'Mt. Oliver', 'New Homestead', 'North Oakland', 'North Shore', 'Northview Heights', 'Oakwood', 'Overbrook', 'Perry North', 'Perry South', 'Point Breeze', 'Point Breeze North', 'Polish Hill', 'Regent Square', 'Ridgemont', 'Shadyside', 'Sheraden', 'South Oakland', 'South Shore', 'South Side Flats', 'South Side Slopes', 'Spring Garden', 'Spring Hill-City View', 'Squirrel Hill North', 'Squirrel Hill South', 'St. Clair', 'Stanton Heights', 'Strip District', 'Summer Hill', 'Swisshelm Park', 'Terrace Village', 'Troy Hill', 'Upper Hill', 'Upper Lawrenceville', 'West End', 'West Oakland', 'Westwood', 'Windgap']\n"
     ]
    }
   ],
   "source": [
    "neighborhoods = fire['neighborhood'].unique()\n",
    "neighborhoods = sorted(neighborhoods)\n",
    "print(neighborhoods)"
   ]
  },
  {
   "cell_type": "code",
   "execution_count": 95,
   "metadata": {},
   "outputs": [
    {
     "name": "stdout",
     "output_type": "stream",
     "text": [
      "[131.0, 111.0, 150.0, 113.0, 151.0, 118.0, 142.0, 160.0, 130.0, 116.0, 112.0, 138.0, 162.0, 100.0, 152.0, 154.0, 143.0, 114.0, 140.0, 117.0, 136.0, 161.0, 153.0, 141.0, 132.0, 133.0, 123.0, 120.0, 134.0, 163.0, 155.0, 173.0, 115.0, 171.0, 164.0, 170.0, 121.0, 122.0, nan, 137.0]\n"
     ]
    },
    {
     "ename": "ValueError",
     "evalue": "list.remove(x): x not in list",
     "output_type": "error",
     "traceback": [
      "\u001b[0;31m---------------------------------------------------------------------------\u001b[0m",
      "\u001b[0;31mValueError\u001b[0m                                Traceback (most recent call last)",
      "\u001b[0;32m<ipython-input-95-e9107d70b8ac>\u001b[0m in \u001b[0;36m<module>\u001b[0;34m\u001b[0m\n\u001b[1;32m      2\u001b[0m \u001b[0mincident_type\u001b[0m \u001b[0;34m=\u001b[0m \u001b[0mincident_type\u001b[0m\u001b[0;34m.\u001b[0m\u001b[0mtolist\u001b[0m\u001b[0;34m(\u001b[0m\u001b[0;34m)\u001b[0m\u001b[0;34m\u001b[0m\u001b[0;34m\u001b[0m\u001b[0m\n\u001b[1;32m      3\u001b[0m \u001b[0mprint\u001b[0m\u001b[0;34m(\u001b[0m\u001b[0mincident_type\u001b[0m\u001b[0;34m)\u001b[0m\u001b[0;34m\u001b[0m\u001b[0;34m\u001b[0m\u001b[0m\n\u001b[0;32m----> 4\u001b[0;31m \u001b[0mincident_type\u001b[0m\u001b[0;34m.\u001b[0m\u001b[0mremove\u001b[0m\u001b[0;34m(\u001b[0m\u001b[0;34m\"nan\"\u001b[0m\u001b[0;34m)\u001b[0m\u001b[0;34m\u001b[0m\u001b[0;34m\u001b[0m\u001b[0m\n\u001b[0m\u001b[1;32m      5\u001b[0m \u001b[0mdesc\u001b[0m \u001b[0;34m=\u001b[0m \u001b[0mfire\u001b[0m\u001b[0;34m[\u001b[0m\u001b[0;34m'type_description'\u001b[0m\u001b[0;34m]\u001b[0m\u001b[0;34m.\u001b[0m\u001b[0munique\u001b[0m\u001b[0;34m(\u001b[0m\u001b[0;34m)\u001b[0m\u001b[0;34m\u001b[0m\u001b[0;34m\u001b[0m\u001b[0m\n\u001b[1;32m      6\u001b[0m \u001b[0mprint\u001b[0m\u001b[0;34m(\u001b[0m\u001b[0mdesc\u001b[0m\u001b[0;34m)\u001b[0m\u001b[0;34m\u001b[0m\u001b[0;34m\u001b[0m\u001b[0m\n",
      "\u001b[0;31mValueError\u001b[0m: list.remove(x): x not in list"
     ]
    }
   ],
   "source": [
    "incident_type = fire['incident_type'].unique()\n",
    "incident_type = incident_type.tolist()\n",
    "print(incident_type)\n",
    "incident_type.remove(\"nan\")\n",
    "desc = fire['type_description'].unique()\n",
    "print(desc)\n",
    "#type_list = pd.DataFrame({'Number': incident_type, 'Description': desc})\n",
    "len(desc)"
   ]
  },
  {
   "cell_type": "code",
   "execution_count": null,
   "metadata": {},
   "outputs": [],
   "source": [
    "type_penalty = []\n",
    "for neighborhood in neighborhoods:\n",
    "    count = 0\n",
    "    while count < fire['call_no']:\n",
    "        "
   ]
  },
  {
   "cell_type": "code",
   "execution_count": 7,
   "metadata": {},
   "outputs": [
    {
     "data": {
      "text/html": [
       "<div>\n",
       "<style scoped>\n",
       "    .dataframe tbody tr th:only-of-type {\n",
       "        vertical-align: middle;\n",
       "    }\n",
       "\n",
       "    .dataframe tbody tr th {\n",
       "        vertical-align: top;\n",
       "    }\n",
       "\n",
       "    .dataframe thead th {\n",
       "        text-align: right;\n",
       "    }\n",
       "</style>\n",
       "<table border=\"1\" class=\"dataframe\">\n",
       "  <thead>\n",
       "    <tr style=\"text-align: right;\">\n",
       "      <th>alarms</th>\n",
       "      <th>0</th>\n",
       "      <th>1</th>\n",
       "      <th>2</th>\n",
       "      <th>3</th>\n",
       "      <th>4</th>\n",
       "      <th>5</th>\n",
       "      <th>6</th>\n",
       "      <th>7</th>\n",
       "    </tr>\n",
       "  </thead>\n",
       "  <tbody>\n",
       "    <tr>\n",
       "      <th>3</th>\n",
       "      <td>Fineview</td>\n",
       "      <td>NaN</td>\n",
       "      <td>NaN</td>\n",
       "      <td>NaN</td>\n",
       "      <td>NaN</td>\n",
       "      <td>NaN</td>\n",
       "      <td>NaN</td>\n",
       "      <td>NaN</td>\n",
       "    </tr>\n",
       "    <tr>\n",
       "      <th>4</th>\n",
       "      <td>NaN</td>\n",
       "      <td>Fairywood</td>\n",
       "      <td>NaN</td>\n",
       "      <td>NaN</td>\n",
       "      <td>NaN</td>\n",
       "      <td>NaN</td>\n",
       "      <td>NaN</td>\n",
       "      <td>NaN</td>\n",
       "    </tr>\n",
       "    <tr>\n",
       "      <th>5</th>\n",
       "      <td>South Side Flats</td>\n",
       "      <td>NaN</td>\n",
       "      <td>NaN</td>\n",
       "      <td>NaN</td>\n",
       "      <td>NaN</td>\n",
       "      <td>NaN</td>\n",
       "      <td>NaN</td>\n",
       "      <td>NaN</td>\n",
       "    </tr>\n",
       "    <tr>\n",
       "      <th>6</th>\n",
       "      <td>NaN</td>\n",
       "      <td>Allegheny Center</td>\n",
       "      <td>NaN</td>\n",
       "      <td>NaN</td>\n",
       "      <td>NaN</td>\n",
       "      <td>NaN</td>\n",
       "      <td>NaN</td>\n",
       "      <td>NaN</td>\n",
       "    </tr>\n",
       "    <tr>\n",
       "      <th>7</th>\n",
       "      <td>NaN</td>\n",
       "      <td>Lincoln-Lemington-Belmar</td>\n",
       "      <td>NaN</td>\n",
       "      <td>NaN</td>\n",
       "      <td>NaN</td>\n",
       "      <td>NaN</td>\n",
       "      <td>NaN</td>\n",
       "      <td>NaN</td>\n",
       "    </tr>\n",
       "  </tbody>\n",
       "</table>\n",
       "</div>"
      ],
      "text/plain": [
       "alarms                 0                         1    2    3    4    5    6  \\\n",
       "3               Fineview                       NaN  NaN  NaN  NaN  NaN  NaN   \n",
       "4                    NaN                 Fairywood  NaN  NaN  NaN  NaN  NaN   \n",
       "5       South Side Flats                       NaN  NaN  NaN  NaN  NaN  NaN   \n",
       "6                    NaN          Allegheny Center  NaN  NaN  NaN  NaN  NaN   \n",
       "7                    NaN  Lincoln-Lemington-Belmar  NaN  NaN  NaN  NaN  NaN   \n",
       "\n",
       "alarms    7  \n",
       "3       NaN  \n",
       "4       NaN  \n",
       "5       NaN  \n",
       "6       NaN  \n",
       "7       NaN  "
      ]
     },
     "execution_count": 7,
     "metadata": {},
     "output_type": "execute_result"
    }
   ],
   "source": [
    "fire.pivot(columns=\"alarms\", values=\"neighborhood\").head()"
   ]
  },
  {
   "cell_type": "code",
   "execution_count": 54,
   "metadata": {},
   "outputs": [],
   "source": [
    "fire_alarms = fire.groupby(\"neighborhood\").sum()"
   ]
  },
  {
   "cell_type": "code",
   "execution_count": 55,
   "metadata": {},
   "outputs": [
    {
     "data": {
      "text/plain": [
       "91"
      ]
     },
     "execution_count": 55,
     "metadata": {},
     "output_type": "execute_result"
    }
   ],
   "source": [
    "fire_alarms[\"alarms\"].count()"
   ]
  },
  {
   "cell_type": "code",
   "execution_count": 58,
   "metadata": {},
   "outputs": [
    {
     "name": "stdout",
     "output_type": "stream",
     "text": [
      "[24, 10, 75, 23, 9, 23, 28, 59, 74, 78, 67, 5, 80, 73, 17, 154, 149, 38, 71, 57, 5, 10, 50, 59, 21, 71, 6, 95, 110, 30, 11, 10, 27, 12, 64, 15, 40, 3, 95, 32, 107, 97, 25, 91, 72, 14, 98, 26, 33, 63, 61, 8, 2, 92, 5, 2, 81, 11, 38, 9, 19, 56, 98, 36, 29, 9, 3, 1, 105, 92, 41, 4, 117, 38, 10, 51, 83, 117, 4, 26, 28, 8, 7, 48, 41, 35, 29, 6, 29, 11, 6]\n"
     ]
    }
   ],
   "source": [
    "alarm_list = []\n",
    "row_count = 0\n",
    "while row_count < fire_alarms['alarms'].count():\n",
    "    new_alarm = fire_alarms.iloc[row_count,1]\n",
    "    alarm_list.append(new_alarm)\n",
    "    row_count = row_count + 1\n",
    "print(alarm_list)"
   ]
  },
  {
   "cell_type": "code",
   "execution_count": 10,
   "metadata": {},
   "outputs": [
    {
     "data": {
      "text/plain": [
       "<matplotlib.axes._subplots.AxesSubplot at 0x7fd24e32e160>"
      ]
     },
     "execution_count": 10,
     "metadata": {},
     "output_type": "execute_result"
    },
    {
     "data": {
      "image/png": "[encoded data removed]",
      "text/plain": [
       "<Figure size 432x288 with 1 Axes>"
      ]
     },
     "metadata": {
      "needs_background": "light"
     },
     "output_type": "display_data"
    }
   ],
   "source": [
    "fire_alarms[\"alarms\"].plot.bar()"
   ]
  },
  {
   "cell_type": "code",
   "execution_count": 11,
   "metadata": {},
   "outputs": [
    {
     "data": {
      "text/plain": [
       "3                       Fineview\n",
       "4                      Fairywood\n",
       "5               South Side Flats\n",
       "6               Allegheny Center\n",
       "7       Lincoln-Lemington-Belmar\n",
       "                  ...           \n",
       "7386                West Oakland\n",
       "7387                       Bluff\n",
       "7388       Spring Hill-City View\n",
       "7392                   Hazelwood\n",
       "7394                     Chateau\n",
       "Name: neighborhood, Length: 6508, dtype: object"
      ]
     },
     "execution_count": 11,
     "metadata": {},
     "output_type": "execute_result"
    }
   ],
   "source": [
    "fire.loc[:,\"neighborhood\"]"
   ]
  },
  {
   "cell_type": "code",
   "execution_count": 12,
   "metadata": {},
   "outputs": [],
   "source": [
    "fires_amt = []"
   ]
  },
  {
   "cell_type": "code",
   "execution_count": 13,
   "metadata": {},
   "outputs": [
    {
     "name": "stdout",
     "output_type": "stream",
     "text": [
      "[50, 34, 99, 40, 12, 50, 34, 115, 107, 133, 102, 16, 117, 143, 31, 230, 208, 62, 102, 79, 13, 36, 70, 84, 28, 96, 8, 132, 168, 56, 18, 19, 45, 26, 90, 18, 84, 12, 200, 60, 155, 143, 45, 131, 111, 51, 160, 44, 57, 106, 86, 29, 6, 166, 10, 20, 101, 53, 56, 13, 43, 95, 137, 61, 39, 30, 6, 12, 139, 144, 73, 19, 202, 77, 21, 86, 102, 200, 11, 47, 41, 17, 14, 76, 61, 37, 41, 17, 52, 22, 16]\n"
     ]
    }
   ],
   "source": [
    "for hood in neighborhoods:\n",
    "    count = (fire['neighborhood'] == hood).sum()\n",
    "    fires_amt.append(count)\n",
    "print(fires_amt)"
   ]
  },
  {
   "cell_type": "code",
   "execution_count": 61,
   "metadata": {},
   "outputs": [
    {
     "data": {
      "text/html": [
       "<div>\n",
       "<style scoped>\n",
       "    .dataframe tbody tr th:only-of-type {\n",
       "        vertical-align: middle;\n",
       "    }\n",
       "\n",
       "    .dataframe tbody tr th {\n",
       "        vertical-align: top;\n",
       "    }\n",
       "\n",
       "    .dataframe thead th {\n",
       "        text-align: right;\n",
       "    }\n",
       "</style>\n",
       "<table border=\"1\" class=\"dataframe\">\n",
       "  <thead>\n",
       "    <tr style=\"text-align: right;\">\n",
       "      <th></th>\n",
       "      <th>Neighborhoods</th>\n",
       "      <th>Alarms</th>\n",
       "      <th>Fires</th>\n",
       "    </tr>\n",
       "  </thead>\n",
       "  <tbody>\n",
       "    <tr>\n",
       "      <th>0</th>\n",
       "      <td>Allegheny Center</td>\n",
       "      <td>24</td>\n",
       "      <td>50</td>\n",
       "    </tr>\n",
       "    <tr>\n",
       "      <th>1</th>\n",
       "      <td>Allegheny West</td>\n",
       "      <td>10</td>\n",
       "      <td>34</td>\n",
       "    </tr>\n",
       "    <tr>\n",
       "      <th>2</th>\n",
       "      <td>Allentown</td>\n",
       "      <td>75</td>\n",
       "      <td>99</td>\n",
       "    </tr>\n",
       "    <tr>\n",
       "      <th>3</th>\n",
       "      <td>Arlington</td>\n",
       "      <td>23</td>\n",
       "      <td>40</td>\n",
       "    </tr>\n",
       "    <tr>\n",
       "      <th>4</th>\n",
       "      <td>Arlington Heights</td>\n",
       "      <td>9</td>\n",
       "      <td>12</td>\n",
       "    </tr>\n",
       "    <tr>\n",
       "      <th>5</th>\n",
       "      <td>Banksville</td>\n",
       "      <td>23</td>\n",
       "      <td>50</td>\n",
       "    </tr>\n",
       "    <tr>\n",
       "      <th>6</th>\n",
       "      <td>Bedford Dwellings</td>\n",
       "      <td>28</td>\n",
       "      <td>34</td>\n",
       "    </tr>\n",
       "    <tr>\n",
       "      <th>7</th>\n",
       "      <td>Beechview</td>\n",
       "      <td>59</td>\n",
       "      <td>115</td>\n",
       "    </tr>\n",
       "    <tr>\n",
       "      <th>8</th>\n",
       "      <td>Beltzhoover</td>\n",
       "      <td>74</td>\n",
       "      <td>107</td>\n",
       "    </tr>\n",
       "    <tr>\n",
       "      <th>9</th>\n",
       "      <td>Bloomfield</td>\n",
       "      <td>78</td>\n",
       "      <td>133</td>\n",
       "    </tr>\n",
       "  </tbody>\n",
       "</table>\n",
       "</div>"
      ],
      "text/plain": [
       "       Neighborhoods  Alarms  Fires\n",
       "0   Allegheny Center      24     50\n",
       "1     Allegheny West      10     34\n",
       "2          Allentown      75     99\n",
       "3          Arlington      23     40\n",
       "4  Arlington Heights       9     12\n",
       "5         Banksville      23     50\n",
       "6  Bedford Dwellings      28     34\n",
       "7          Beechview      59    115\n",
       "8        Beltzhoover      74    107\n",
       "9         Bloomfield      78    133"
      ]
     },
     "execution_count": 61,
     "metadata": {},
     "output_type": "execute_result"
    }
   ],
   "source": [
    "fire_data = pd.DataFrame({'Neighborhoods': neighborhoods, 'Alarms': alarm_list, 'Fires': fires_amt})\n",
    "fire_data.head(10)"
   ]
  },
  {
   "cell_type": "code",
   "execution_count": 72,
   "metadata": {},
   "outputs": [
    {
     "data": {
      "text/plain": [
       "<matplotlib.axes._subplots.AxesSubplot at 0x7fd24b2d3e50>"
      ]
     },
     "execution_count": 72,
     "metadata": {},
     "output_type": "execute_result"
    },
    {
     "data": {
      "image/png": "[encoded data removed]",
      "text/plain": [
       "<Figure size 432x288 with 1 Axes>"
      ]
     },
     "metadata": {
      "needs_background": "light"
     },
     "output_type": "display_data"
    }
   ],
   "source": [
    "fire_data.plot(kind='scatter', x='Alarms', y='Fires', title=\"Alarms vs. Fires by Neighborhood\")"
   ]
  },
  {
   "cell_type": "code",
   "execution_count": 75,
   "metadata": {},
   "outputs": [
    {
     "name": "stdout",
     "output_type": "stream",
     "text": [
      "[104.16666666666667, 115.6, 130.68, 69.56521739130434, 16.0, 108.69565217391303, 41.285714285714285, 224.15254237288136, 154.71621621621622, 226.78205128205127, 155.28358208955223, 51.2, 171.11249999999998, 280.1232876712329, 56.529411764705884, 343.5064935064935, 290.36241610738256, 101.15789473684211, 146.53521126760563, 109.49122807017545, 33.800000000000004, 129.6, 98.0, 119.59322033898304, 37.33333333333333, 129.80281690140845, 10.666666666666666, 183.4105263157895, 256.5818181818182, 104.53333333333333, 29.454545454545457, 36.1, 75.0, 56.33333333333333, 126.5625, 21.599999999999998, 176.4, 48.0, 421.05263157894734, 112.5, 224.53271028037383, 210.81443298969074, 81.0, 188.58241758241758, 171.125, 185.78571428571428, 261.2244897959184, 74.46153846153847, 98.45454545454545, 178.34920634920636, 121.24590163934427, 105.125, 18.0, 299.5217391304348, 20.0, 200.0, 125.93827160493827, 255.36363636363637, 82.52631578947368, 18.77777777777778, 97.3157894736842, 161.16071428571428, 191.52040816326533, 103.36111111111111, 52.44827586206897, 100.0, 12.0, 144.0, 184.0095238095238, 225.3913043478261, 129.97560975609755, 90.25, 348.7521367521368, 156.02631578947367, 44.1, 145.01960784313727, 125.34939759036145, 341.88034188034186, 30.25, 84.96153846153847, 60.035714285714285, 36.125, 28.0, 120.33333333333333, 90.7560975609756, 39.114285714285714, 57.96551724137931, 48.16666666666667, 93.24137931034483, 44.0, 42.666666666666664]\n"
     ]
    }
   ],
   "source": [
    "row_count = 0\n",
    "final_scores = []\n",
    "while row_count < fire_data[\"Neighborhoods\"].count():\n",
    "    score = fire_data.iloc[row_count, 2] * (fire_data.iloc[row_count,2]/fire_data.iloc[row_count,1])\n",
    "    final_scores.append(score)\n",
    "    row_count = row_count + 1\n",
    "print(final_scores)"
   ]
  },
  {
   "cell_type": "code",
   "execution_count": 88,
   "metadata": {},
   "outputs": [
    {
     "data": {
      "text/html": [
       "<div>\n",
       "<style scoped>\n",
       "    .dataframe tbody tr th:only-of-type {\n",
       "        vertical-align: middle;\n",
       "    }\n",
       "\n",
       "    .dataframe tbody tr th {\n",
       "        vertical-align: top;\n",
       "    }\n",
       "\n",
       "    .dataframe thead th {\n",
       "        text-align: right;\n",
       "    }\n",
       "</style>\n",
       "<table border=\"1\" class=\"dataframe\">\n",
       "  <thead>\n",
       "    <tr style=\"text-align: right;\">\n",
       "      <th></th>\n",
       "      <th>Neighborhoods</th>\n",
       "      <th>Alarms</th>\n",
       "      <th>Fires</th>\n",
       "      <th>Scores</th>\n",
       "    </tr>\n",
       "  </thead>\n",
       "  <tbody>\n",
       "    <tr>\n",
       "      <th>0</th>\n",
       "      <td>East Carnegie</td>\n",
       "      <td>6</td>\n",
       "      <td>8</td>\n",
       "      <td>10.666667</td>\n",
       "    </tr>\n",
       "    <tr>\n",
       "      <th>1</th>\n",
       "      <td>Regent Square</td>\n",
       "      <td>3</td>\n",
       "      <td>6</td>\n",
       "      <td>12.000000</td>\n",
       "    </tr>\n",
       "    <tr>\n",
       "      <th>2</th>\n",
       "      <td>Arlington Heights</td>\n",
       "      <td>9</td>\n",
       "      <td>12</td>\n",
       "      <td>16.000000</td>\n",
       "    </tr>\n",
       "    <tr>\n",
       "      <th>3</th>\n",
       "      <td>Mount Oliver Borough</td>\n",
       "      <td>2</td>\n",
       "      <td>6</td>\n",
       "      <td>18.000000</td>\n",
       "    </tr>\n",
       "    <tr>\n",
       "      <th>4</th>\n",
       "      <td>Oakwood</td>\n",
       "      <td>9</td>\n",
       "      <td>13</td>\n",
       "      <td>18.777778</td>\n",
       "    </tr>\n",
       "    <tr>\n",
       "      <th>5</th>\n",
       "      <td>Mt. Oliver</td>\n",
       "      <td>5</td>\n",
       "      <td>10</td>\n",
       "      <td>20.000000</td>\n",
       "    </tr>\n",
       "    <tr>\n",
       "      <th>6</th>\n",
       "      <td>Glen Hazel</td>\n",
       "      <td>15</td>\n",
       "      <td>18</td>\n",
       "      <td>21.600000</td>\n",
       "    </tr>\n",
       "    <tr>\n",
       "      <th>7</th>\n",
       "      <td>Swisshelm Park</td>\n",
       "      <td>7</td>\n",
       "      <td>14</td>\n",
       "      <td>28.000000</td>\n",
       "    </tr>\n",
       "    <tr>\n",
       "      <th>8</th>\n",
       "      <td>Esplen</td>\n",
       "      <td>11</td>\n",
       "      <td>18</td>\n",
       "      <td>29.454545</td>\n",
       "    </tr>\n",
       "    <tr>\n",
       "      <th>9</th>\n",
       "      <td>St. Clair</td>\n",
       "      <td>4</td>\n",
       "      <td>11</td>\n",
       "      <td>30.250000</td>\n",
       "    </tr>\n",
       "    <tr>\n",
       "      <th>10</th>\n",
       "      <td>Chartiers City</td>\n",
       "      <td>5</td>\n",
       "      <td>13</td>\n",
       "      <td>33.800000</td>\n",
       "    </tr>\n",
       "    <tr>\n",
       "      <th>11</th>\n",
       "      <td>Fairywood</td>\n",
       "      <td>10</td>\n",
       "      <td>19</td>\n",
       "      <td>36.100000</td>\n",
       "    </tr>\n",
       "    <tr>\n",
       "      <th>12</th>\n",
       "      <td>Summer Hill</td>\n",
       "      <td>8</td>\n",
       "      <td>17</td>\n",
       "      <td>36.125000</td>\n",
       "    </tr>\n",
       "    <tr>\n",
       "      <th>13</th>\n",
       "      <td>Duquesne Heights</td>\n",
       "      <td>21</td>\n",
       "      <td>28</td>\n",
       "      <td>37.333333</td>\n",
       "    </tr>\n",
       "    <tr>\n",
       "      <th>14</th>\n",
       "      <td>Upper Hill</td>\n",
       "      <td>35</td>\n",
       "      <td>37</td>\n",
       "      <td>39.114286</td>\n",
       "    </tr>\n",
       "    <tr>\n",
       "      <th>15</th>\n",
       "      <td>Bedford Dwellings</td>\n",
       "      <td>28</td>\n",
       "      <td>34</td>\n",
       "      <td>41.285714</td>\n",
       "    </tr>\n",
       "    <tr>\n",
       "      <th>16</th>\n",
       "      <td>Windgap</td>\n",
       "      <td>6</td>\n",
       "      <td>16</td>\n",
       "      <td>42.666667</td>\n",
       "    </tr>\n",
       "    <tr>\n",
       "      <th>17</th>\n",
       "      <td>Westwood</td>\n",
       "      <td>11</td>\n",
       "      <td>22</td>\n",
       "      <td>44.000000</td>\n",
       "    </tr>\n",
       "    <tr>\n",
       "      <th>18</th>\n",
       "      <td>Spring Garden</td>\n",
       "      <td>10</td>\n",
       "      <td>21</td>\n",
       "      <td>44.100000</td>\n",
       "    </tr>\n",
       "    <tr>\n",
       "      <th>19</th>\n",
       "      <td>Hays</td>\n",
       "      <td>3</td>\n",
       "      <td>12</td>\n",
       "      <td>48.000000</td>\n",
       "    </tr>\n",
       "  </tbody>\n",
       "</table>\n",
       "</div>"
      ],
      "text/plain": [
       "           Neighborhoods  Alarms  Fires     Scores\n",
       "0          East Carnegie       6      8  10.666667\n",
       "1          Regent Square       3      6  12.000000\n",
       "2      Arlington Heights       9     12  16.000000\n",
       "3   Mount Oliver Borough       2      6  18.000000\n",
       "4                Oakwood       9     13  18.777778\n",
       "5             Mt. Oliver       5     10  20.000000\n",
       "6             Glen Hazel      15     18  21.600000\n",
       "7         Swisshelm Park       7     14  28.000000\n",
       "8                 Esplen      11     18  29.454545\n",
       "9              St. Clair       4     11  30.250000\n",
       "10        Chartiers City       5     13  33.800000\n",
       "11             Fairywood      10     19  36.100000\n",
       "12           Summer Hill       8     17  36.125000\n",
       "13      Duquesne Heights      21     28  37.333333\n",
       "14            Upper Hill      35     37  39.114286\n",
       "15     Bedford Dwellings      28     34  41.285714\n",
       "16               Windgap       6     16  42.666667\n",
       "17              Westwood      11     22  44.000000\n",
       "18         Spring Garden      10     21  44.100000\n",
       "19                  Hays       3     12  48.000000"
      ]
     },
     "execution_count": 88,
     "metadata": {},
     "output_type": "execute_result"
    }
   ],
   "source": [
    "score_data = pd.DataFrame({\"Neighborhoods\": neighborhoods, \"Scores\": final_scores})\n",
    "final_data = pd.merge(fire_data, score_data)\n",
    "final_data = final_data.sort_values(by=['Scores'])\n",
    "final_data = final_data.reset_index()\n",
    "final_data = final_data.drop(['index'], axis=1)\n",
    "final_data.head(20)"
   ]
  }
 ],
 "metadata": {
  "kernelspec": {
   "display_name": "Python 3",
   "language": "python",
   "name": "python3"
  },
  "language_info": {
   "codemirror_mode": {
    "name": "ipython",
    "version": 3
   },
   "file_extension": ".py",
   "mimetype": "text/x-python",
   "name": "python",
   "nbconvert_exporter": "python",
   "pygments_lexer": "ipython3",
   "version": "3.8.3"
  }
 },
 "nbformat": 4,
 "nbformat_minor": 4
}
